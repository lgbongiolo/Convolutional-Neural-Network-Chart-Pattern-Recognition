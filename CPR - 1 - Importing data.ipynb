{
 "cells": [
  {
   "cell_type": "code",
   "execution_count": 1,
   "metadata": {},
   "outputs": [],
   "source": [
    "#Description:\n",
    "#Chart Pattern Image Recognition - Identify chart patterns by Convolutional Neural Networks \n",
    "#Model Type: Convolutional Neural Network\n",
    "#06-10-2022\n",
    "#Version - V1.0 Beta\n",
    "\n",
    "\n",
    "#------------------------------\n",
    "#Version Updates:\n",
    "#Import DATADIR\n",
    "#Resize the Images\n",
    "#Create the training dataset\n",
    "#Shuffle the data so the AI learns correclty \n",
    "#Pack into the variables right before we feed it to our neural network \n",
    "#Save the data so we dont have to be importing all the time \n",
    "\n",
    "#------------------------------\n",
    "#Future implementations \n",
    "#Add more data to the dataset\n",
    "#Add Automated Download dataset from google images \n",
    "#Add more CATEGORIES such as Flags, Pennant, Cup and handle and so on. \n",
    "#Add Auto Test Image from any Chart  \n",
    "\n",
    "### Author - Luiz Gabriel Bongiolo\n",
    "\n",
    "### References \n",
    "# Harrison Kinsley @Sentdex - Deep Learning with Python, TensorFlow, and Keras tutorial - https://pythonprogramming.net/introduction-deep-learning-python-tensorflow-keras/\n",
    "# Shaan Shah - Identifying Candlestick Patterns using Deep Learning - https://towardsdatascience.com/identifying-candlestick-patterns-using-deep-learning-b7d706726874\n",
    "# https://www.tensorflow.org/api_docs/python/tf/all_symbols\n",
    "# https://keras.io/api/layers/"
   ]
  },
  {
   "cell_type": "code",
   "execution_count": 2,
   "metadata": {},
   "outputs": [],
   "source": [
    "import numpy as np\n",
    "import matplotlib.pyplot as plt \n",
    "import os\n",
    "import cv2 \n",
    "import random \n",
    "\n",
    "# Remove warnings\n",
    "import sys\n",
    "\n",
    "if not sys.warnoptions:\n",
    "    import warnings\n",
    "    warnings.simplefilter(\"ignore\")"
   ]
  },
  {
   "cell_type": "code",
   "execution_count": 3,
   "metadata": {},
   "outputs": [
    {
     "ename": "FileNotFoundError",
     "evalue": "[Errno 2] No such file or directory: '/home/user/Documents/Chart Pattern Image Recognition/Chartpatterns/Bearish'",
     "output_type": "error",
     "traceback": [
      "\u001b[0;31m---------------------------------------------------------------------------\u001b[0m",
      "\u001b[0;31mFileNotFoundError\u001b[0m                         Traceback (most recent call last)",
      "\u001b[1;32m/home/semrival/Documents/Python Programs /Outspoken Market/Neuralprophet/Chart Pattern Image Recognition/CPR - 1 - Importing data.ipynb Cell 3\u001b[0m in \u001b[0;36m<module>\u001b[0;34m\u001b[0m\n\u001b[1;32m      <a href='vscode-notebook-cell:/home/semrival/Documents/Python%20Programs%20/Outspoken%20Market/Neuralprophet/Chart%20Pattern%20Image%20Recognition/CPR%20-%201%20-%20Importing%20data.ipynb#W2sZmlsZQ%3D%3D?line=3'>4</a>\u001b[0m \u001b[39mfor\u001b[39;00m category \u001b[39min\u001b[39;00m CATEGORIES:\n\u001b[1;32m      <a href='vscode-notebook-cell:/home/semrival/Documents/Python%20Programs%20/Outspoken%20Market/Neuralprophet/Chart%20Pattern%20Image%20Recognition/CPR%20-%201%20-%20Importing%20data.ipynb#W2sZmlsZQ%3D%3D?line=4'>5</a>\u001b[0m     path \u001b[39m=\u001b[39m os\u001b[39m.\u001b[39mpath\u001b[39m.\u001b[39mjoin(DATADIR, category)\n\u001b[0;32m----> <a href='vscode-notebook-cell:/home/semrival/Documents/Python%20Programs%20/Outspoken%20Market/Neuralprophet/Chart%20Pattern%20Image%20Recognition/CPR%20-%201%20-%20Importing%20data.ipynb#W2sZmlsZQ%3D%3D?line=5'>6</a>\u001b[0m     \u001b[39mfor\u001b[39;00m img \u001b[39min\u001b[39;00m os\u001b[39m.\u001b[39;49mlistdir(path):\n\u001b[1;32m      <a href='vscode-notebook-cell:/home/semrival/Documents/Python%20Programs%20/Outspoken%20Market/Neuralprophet/Chart%20Pattern%20Image%20Recognition/CPR%20-%201%20-%20Importing%20data.ipynb#W2sZmlsZQ%3D%3D?line=6'>7</a>\u001b[0m         img_array \u001b[39m=\u001b[39m cv2\u001b[39m.\u001b[39mimread(os\u001b[39m.\u001b[39mpath\u001b[39m.\u001b[39mjoin(path,img), cv2\u001b[39m.\u001b[39mIMREAD_GRAYSCALE) \u001b[39m#Remember to change grayscale if you need this\u001b[39;00m\n\u001b[1;32m      <a href='vscode-notebook-cell:/home/semrival/Documents/Python%20Programs%20/Outspoken%20Market/Neuralprophet/Chart%20Pattern%20Image%20Recognition/CPR%20-%201%20-%20Importing%20data.ipynb#W2sZmlsZQ%3D%3D?line=7'>8</a>\u001b[0m         plt\u001b[39m.\u001b[39mimshow(img_array, cmap\u001b[39m=\u001b[39m\u001b[39m\"\u001b[39m\u001b[39mgray\u001b[39m\u001b[39m\"\u001b[39m)\n",
      "\u001b[0;31mFileNotFoundError\u001b[0m: [Errno 2] No such file or directory: '/home/user/Documents/Chart Pattern Image Recognition/Chartpatterns/Bearish'"
     ]
    }
   ],
   "source": [
    "DATADIR = \"/home/user/Documents/Chart Pattern Image Recognition/Chartpatterns\"\n",
    "CATEGORIES = [\"Bearish\", \"Bullish\"]\n",
    "\n",
    "for category in CATEGORIES:\n",
    "    path = os.path.join(DATADIR, category)\n",
    "    for img in os.listdir(path):\n",
    "        img_array = cv2.imread(os.path.join(path,img), cv2.IMREAD_GRAYSCALE) #Remember to change grayscale if you need this\n",
    "        plt.imshow(img_array, cmap=\"gray\")\n",
    "        plt.show()\n",
    "        break\n",
    "    break \n",
    "\n"
   ]
  },
  {
   "cell_type": "code",
   "execution_count": null,
   "metadata": {},
   "outputs": [
    {
     "name": "stdout",
     "output_type": "stream",
     "text": [
      "[[255 255 255 ... 255 255 255]\n",
      " [255 255 255 ... 255 255 255]\n",
      " [255 255 255 ... 255 255 255]\n",
      " ...\n",
      " [255 255 255 ... 255 255 255]\n",
      " [255 255 255 ... 255 255 255]\n",
      " [255 255 255 ... 255 255 255]]\n",
      "(938, 1698)\n"
     ]
    }
   ],
   "source": [
    "print(img_array)\n",
    "print(img_array.shape)"
   ]
  },
  {
   "cell_type": "code",
   "execution_count": null,
   "metadata": {},
   "outputs": [
    {
     "data": {
      "image/png": "[encoded data removed]",
      "text/plain": [
       "<Figure size 432x288 with 1 Axes>"
      ]
     },
     "metadata": {
      "needs_background": "light"
     },
     "output_type": "display_data"
    }
   ],
   "source": [
    "#Resizing the images \n",
    "\n",
    "IMG_SIZE = 100\n",
    "\n",
    "new_array = cv2.resize(img_array, (IMG_SIZE, IMG_SIZE))\n",
    "plt.imshow(new_array, cmap=\"gray\")\n",
    "plt.show()\n"
   ]
  },
  {
   "cell_type": "code",
   "execution_count": null,
   "metadata": {},
   "outputs": [],
   "source": [
    "#Create the training dataset\n",
    "\n",
    "training_data = []\n",
    "\n",
    "def create_training_data():\n",
    "    for category in CATEGORIES:\n",
    "        path = os.path.join(DATADIR, category)                                   #path to cats or dogs dir\n",
    "        class_num = CATEGORIES.index(category)                                   # Classification of the dogs and cat to 0 and 1\n",
    "        for img in os.listdir(path):\n",
    "            try:\n",
    "                img_array = cv2.imread(os.path.join(path,img), cv2.IMREAD_GRAYSCALE) #Remember to change grayscale if you need this\n",
    "                new_array = cv2.resize(img_array, (IMG_SIZE, IMG_SIZE))\n",
    "                training_data.append([new_array, class_num])\n",
    "            except Exception as e:\n",
    "                pass\n",
    "\n",
    "\n",
    "create_training_data()\n",
    "\n"
   ]
  },
  {
   "cell_type": "code",
   "execution_count": null,
   "metadata": {},
   "outputs": [
    {
     "name": "stdout",
     "output_type": "stream",
     "text": [
      "16\n"
     ]
    }
   ],
   "source": [
    "print(len(training_data)) #We should balance the dataset, it is good to have 50% each or 50 50 \n"
   ]
  },
  {
   "cell_type": "code",
   "execution_count": null,
   "metadata": {},
   "outputs": [],
   "source": [
    "#Shuffle the data so the AI learns correclty \n",
    "\n",
    "random.shuffle(training_data)"
   ]
  },
  {
   "cell_type": "code",
   "execution_count": null,
   "metadata": {},
   "outputs": [
    {
     "name": "stdout",
     "output_type": "stream",
     "text": [
      "1\n",
      "0\n",
      "1\n",
      "1\n",
      "0\n",
      "0\n",
      "1\n",
      "0\n",
      "0\n",
      "0\n"
     ]
    }
   ],
   "source": [
    "#Check labels \n",
    "\n",
    "for sample in training_data[:10]:\n",
    "    print(sample[1])"
   ]
  },
  {
   "cell_type": "code",
   "execution_count": null,
   "metadata": {},
   "outputs": [],
   "source": [
    "#Pack into the variables right before we feed it to our neural network \n",
    "\n",
    "X = []\n",
    "y = []\n"
   ]
  },
  {
   "cell_type": "code",
   "execution_count": null,
   "metadata": {},
   "outputs": [],
   "source": [
    "for features, label in training_data:\n",
    "    X.append(features)\n",
    "    y.append(label)\n",
    "\n",
    "\n",
    "X = np.array(X).reshape(-1, IMG_SIZE, IMG_SIZE, 1)    #needs to be an array / -1 is for gray scale / we need to change 1 to 3, because we would have 3 values on the color scale \n",
    "\n"
   ]
  },
  {
   "cell_type": "code",
   "execution_count": null,
   "metadata": {},
   "outputs": [],
   "source": [
    "#Save the data so we dont have to be importing all the time \n",
    "\n",
    "import pickle\n",
    "\n",
    "pickle_out = open(\"X.pickle\", \"wb\")\n",
    "pickle.dump(X, pickle_out)\n",
    "pickle_out.close()\n",
    "\n",
    "pickle_out = open(\"y.pickle\", \"wb\")\n",
    "pickle.dump(y, pickle_out)\n",
    "pickle_out.close()\n"
   ]
  },
  {
   "cell_type": "code",
   "execution_count": null,
   "metadata": {},
   "outputs": [],
   "source": [
    "pickle_in = open(\"X.pickle\", \"rb\")\n",
    "\n",
    "X = pickle.load(pickle_in)\n",
    "\n"
   ]
  },
  {
   "cell_type": "code",
   "execution_count": null,
   "metadata": {},
   "outputs": [],
   "source": [
    "#X[1]\n",
    "#y[3]"
   ]
  },
  {
   "cell_type": "code",
   "execution_count": null,
   "metadata": {},
   "outputs": [],
   "source": []
  }
 ],
 "metadata": {
  "interpreter": {
   "hash": "916dbcbb3f70747c44a77c7bcd40155683ae19c65e1c03b4aa3499c5328201f1"
  },
  "kernelspec": {
   "display_name": "Python 3.8.10 64-bit",
   "language": "python",
   "name": "python3"
  },
  "language_info": {
   "codemirror_mode": {
    "name": "ipython",
    "version": 3
   },
   "file_extension": ".py",
   "mimetype": "text/x-python",
   "name": "python",
   "nbconvert_exporter": "python",
   "pygments_lexer": "ipython3",
   "version": "3.8.10"
  },
  "orig_nbformat": 4
 },
 "nbformat": 4,
 "nbformat_minor": 2
}
