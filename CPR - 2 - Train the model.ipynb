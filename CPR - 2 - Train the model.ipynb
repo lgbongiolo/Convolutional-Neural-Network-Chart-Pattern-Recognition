{
 "cells": [
  {
   "cell_type": "code",
   "execution_count": null,
   "metadata": {},
   "outputs": [],
   "source": [
    "#Description:\n",
    "#Chart Pattern Image Recognition - Identify chart patterns by Convolutional Neural Networks \n",
    "#Model Type: Convolutional Neural Network\n",
    "#06-10-2022\n",
    "#Version - V1.0 Beta\n",
    "\n",
    "\n",
    "#------------------------------\n",
    "#Version Updates:\n",
    "#Importing pickle data\n",
    "#Add layers \n",
    "#Fit the model \n",
    "\n",
    "#------------------------------\n",
    "#Future implementations \n",
    "#Add more data to the dataset\n",
    "#Add Automated Download dataset from google images \n",
    "#Add more CATEGORIES such as Flags, Pennant, Cup and handle and so on. \n",
    "#Add Auto Test Image from any Chart  \n",
    "\n",
    "### Author - Luiz Gabriel Bongiolo\n",
    "\n",
    "### References \n",
    "# Harrison Kinsley @Sentdex - Deep Learning with Python, TensorFlow, and Keras tutorial - https://pythonprogramming.net/introduction-deep-learning-python-tensorflow-keras/\n",
    "# Shaan Shah - Identifying Candlestick Patterns using Deep Learning - https://towardsdatascience.com/identifying-candlestick-patterns-using-deep-learning-b7d706726874\n",
    "# https://www.tensorflow.org/api_docs/python/tf/all_symbols\n",
    "# https://keras.io/api/layers/"
   ]
  },
  {
   "cell_type": "code",
   "execution_count": 2,
   "metadata": {},
   "outputs": [
    {
     "name": "stderr",
     "output_type": "stream",
     "text": [
      "2022-10-15 17:20:24.827059: W tensorflow/stream_executor/platform/default/dso_loader.cc:64] Could not load dynamic library 'libcudart.so.11.0'; dlerror: libcudart.so.11.0: cannot open shared object file: No such file or directory\n",
      "2022-10-15 17:20:24.827106: I tensorflow/stream_executor/cuda/cudart_stub.cc:29] Ignore above cudart dlerror if you do not have a GPU set up on your machine.\n"
     ]
    }
   ],
   "source": [
    "import tensorflow as tf\n",
    "from tensorflow.python import keras\n",
    "from keras.models import Sequential\n",
    "from keras.layers import Dense, Dropout, Activation, Flatten, Conv2D, MaxPooling2D\n",
    "from tensorflow.python.keras import layers \n",
    "from keras.utils import to_categorical\n",
    "import numpy as np\n",
    "import matplotlib.pyplot as plt\n",
    "import pickle \n",
    "\n",
    "\n",
    "# Remove warnings\n",
    "import sys\n",
    "\n",
    "if not sys.warnoptions:\n",
    "    import warnings\n",
    "    warnings.simplefilter(\"ignore\")\n",
    "\n"
   ]
  },
  {
   "cell_type": "code",
   "execution_count": 3,
   "metadata": {},
   "outputs": [
    {
     "name": "stderr",
     "output_type": "stream",
     "text": [
      "2022-10-15 17:20:29.698768: I tensorflow/stream_executor/cuda/cuda_gpu_executor.cc:975] successful NUMA node read from SysFS had negative value (-1), but there must be at least one NUMA node, so returning NUMA node zero\n",
      "2022-10-15 17:20:29.699284: W tensorflow/stream_executor/platform/default/dso_loader.cc:64] Could not load dynamic library 'libcudart.so.11.0'; dlerror: libcudart.so.11.0: cannot open shared object file: No such file or directory\n",
      "2022-10-15 17:20:29.699386: W tensorflow/stream_executor/platform/default/dso_loader.cc:64] Could not load dynamic library 'libcublas.so.11'; dlerror: libcublas.so.11: cannot open shared object file: No such file or directory\n",
      "2022-10-15 17:20:29.699481: W tensorflow/stream_executor/platform/default/dso_loader.cc:64] Could not load dynamic library 'libcublasLt.so.11'; dlerror: libcublasLt.so.11: cannot open shared object file: No such file or directory\n",
      "2022-10-15 17:20:29.699575: W tensorflow/stream_executor/platform/default/dso_loader.cc:64] Could not load dynamic library 'libcufft.so.10'; dlerror: libcufft.so.10: cannot open shared object file: No such file or directory\n",
      "2022-10-15 17:20:29.699670: W tensorflow/stream_executor/platform/default/dso_loader.cc:64] Could not load dynamic library 'libcurand.so.10'; dlerror: libcurand.so.10: cannot open shared object file: No such file or directory\n",
      "2022-10-15 17:20:29.699762: W tensorflow/stream_executor/platform/default/dso_loader.cc:64] Could not load dynamic library 'libcusolver.so.11'; dlerror: libcusolver.so.11: cannot open shared object file: No such file or directory\n",
      "2022-10-15 17:20:29.699856: W tensorflow/stream_executor/platform/default/dso_loader.cc:64] Could not load dynamic library 'libcusparse.so.11'; dlerror: libcusparse.so.11: cannot open shared object file: No such file or directory\n",
      "2022-10-15 17:20:29.699949: W tensorflow/stream_executor/platform/default/dso_loader.cc:64] Could not load dynamic library 'libcudnn.so.8'; dlerror: libcudnn.so.8: cannot open shared object file: No such file or directory\n",
      "2022-10-15 17:20:29.699967: W tensorflow/core/common_runtime/gpu/gpu_device.cc:1850] Cannot dlopen some GPU libraries. Please make sure the missing libraries mentioned above are installed properly if you would like to use GPU. Follow the guide at https://www.tensorflow.org/install/gpu for how to download and setup the required libraries for your platform.\n",
      "Skipping registering GPU devices...\n"
     ]
    },
    {
     "name": "stdout",
     "output_type": "stream",
     "text": [
      "Epoch 1/13\n",
      "1/1 [==============================] - 2s 2s/step - loss: 0.6939 - accuracy: 0.5000 - val_loss: 3.2524 - val_accuracy: 0.5000\n",
      "Epoch 2/13\n",
      "1/1 [==============================] - 0s 442ms/step - loss: 2.7287 - accuracy: 0.5000 - val_loss: 1.3284 - val_accuracy: 0.5000\n",
      "Epoch 3/13\n",
      "1/1 [==============================] - 0s 361ms/step - loss: 0.9922 - accuracy: 0.5000 - val_loss: 0.9105 - val_accuracy: 0.5000\n",
      "Epoch 4/13\n",
      "1/1 [==============================] - 0s 423ms/step - loss: 0.5813 - accuracy: 0.5000 - val_loss: 0.5955 - val_accuracy: 1.0000\n",
      "Epoch 5/13\n",
      "1/1 [==============================] - 0s 378ms/step - loss: 0.2954 - accuracy: 0.9286 - val_loss: 0.7283 - val_accuracy: 0.5000\n",
      "Epoch 6/13\n",
      "1/1 [==============================] - 0s 490ms/step - loss: 0.3059 - accuracy: 0.8571 - val_loss: 0.5893 - val_accuracy: 1.0000\n",
      "Epoch 7/13\n",
      "1/1 [==============================] - 1s 502ms/step - loss: 0.2082 - accuracy: 1.0000 - val_loss: 0.7543 - val_accuracy: 0.5000\n",
      "Epoch 8/13\n",
      "1/1 [==============================] - 1s 516ms/step - loss: 0.2074 - accuracy: 0.9286 - val_loss: 0.7190 - val_accuracy: 0.5000\n",
      "Epoch 9/13\n",
      "1/1 [==============================] - 0s 431ms/step - loss: 0.1175 - accuracy: 1.0000 - val_loss: 0.9861 - val_accuracy: 0.5000\n",
      "Epoch 10/13\n",
      "1/1 [==============================] - 0s 419ms/step - loss: 0.1177 - accuracy: 0.9286 - val_loss: 0.8854 - val_accuracy: 0.5000\n",
      "Epoch 11/13\n",
      "1/1 [==============================] - 0s 399ms/step - loss: 0.0668 - accuracy: 1.0000 - val_loss: 0.9169 - val_accuracy: 0.5000\n",
      "Epoch 12/13\n",
      "1/1 [==============================] - 0s 335ms/step - loss: 0.0582 - accuracy: 1.0000 - val_loss: 0.9935 - val_accuracy: 0.5000\n",
      "Epoch 13/13\n",
      "1/1 [==============================] - 0s 353ms/step - loss: 0.0371 - accuracy: 1.0000 - val_loss: 1.1787 - val_accuracy: 0.0000e+00\n"
     ]
    },
    {
     "data": {
      "text/plain": [
       "<keras.callbacks.History at 0x7fc408153310>"
      ]
     },
     "execution_count": 3,
     "metadata": {},
     "output_type": "execute_result"
    }
   ],
   "source": [
    "X = pickle.load(open(\"X.pickle\",\"rb\"))\n",
    "y = pickle.load(open(\"y.pickle\",\"rb\"))\n",
    "\n",
    "X = X/255.0\n",
    "\n",
    "y = np.array(y)\n",
    "\n",
    "model = Sequential()\n",
    "model.add(Conv2D(64, (3,3), input_shape = X.shape[1:]))\n",
    "model.add(Activation(\"relu\"))\n",
    "model.add(MaxPooling2D(pool_size=(2,2)))\n",
    "\n",
    "\n",
    "model.add(Conv2D(64, (3,3)))\n",
    "model.add(Activation(\"relu\"))\n",
    "model.add(MaxPooling2D(pool_size=(2,2)))\n",
    "\n",
    "\n",
    "model.add(Flatten())\n",
    "model.add(Dense(64))\n",
    "\n",
    "model.add(Dense(1))\n",
    "model.add(Activation(\"sigmoid\"))\n",
    "\n",
    "model.compile(loss=\"binary_crossentropy\",optimizer=\"adam\", metrics = [\"accuracy\"]) #loss \"Categorical\" for several categories \n",
    "\n",
    "model.fit(X, y, batch_size=32, epochs=13, validation_split=0.1) #Change epochs \n",
    "\n"
   ]
  },
  {
   "cell_type": "code",
   "execution_count": null,
   "metadata": {},
   "outputs": [],
   "source": []
  }
 ],
 "metadata": {
  "interpreter": {
   "hash": "916dbcbb3f70747c44a77c7bcd40155683ae19c65e1c03b4aa3499c5328201f1"
  },
  "kernelspec": {
   "display_name": "Python 3.8.10 64-bit",
   "language": "python",
   "name": "python3"
  },
  "language_info": {
   "codemirror_mode": {
    "name": "ipython",
    "version": 3
   },
   "file_extension": ".py",
   "mimetype": "text/x-python",
   "name": "python",
   "nbconvert_exporter": "python",
   "pygments_lexer": "ipython3",
   "version": "3.8.10"
  },
  "orig_nbformat": 4
 },
 "nbformat": 4,
 "nbformat_minor": 2
}
