{
 "cells": [
  {
   "cell_type": "code",
   "execution_count": 9,
   "metadata": {},
   "outputs": [],
   "source": [
    "#Description:\n",
    "#Chart Pattern Image Recognition - Identify chart patterns by Convolutional Neural Networks \n",
    "#Model Type: Convolutional Neural Network\n",
    "#06-10-2022\n",
    "#Version - V1.0 Beta\n",
    "\n",
    "\n",
    "#------------------------------\n",
    "#Version Updates:\n",
    "#Importing pickle data\n",
    "#Add layers \n",
    "#Fit the model \n",
    "\n",
    "#------------------------------\n",
    "#Future implementations \n",
    "#Add more data to the dataset\n",
    "#Add Automated Download dataset from google images \n",
    "#Add more CATEGORIES such as Flags, Pennant, Cup and handle and so on. \n",
    "#Add Auto Test Image from any Chart  \n",
    "\n",
    "### Author - Luiz Gabriel Bongiolo\n",
    "\n",
    "### References \n",
    "# Harrison Kinsley @Sentdex - Deep Learning with Python, TensorFlow, and Keras tutorial - https://pythonprogramming.net/introduction-deep-learning-python-tensorflow-keras/\n",
    "# Shaan Shah - Identifying Candlestick Patterns using Deep Learning - https://towardsdatascience.com/identifying-candlestick-patterns-using-deep-learning-b7d706726874\n",
    "# https://www.tensorflow.org/api_docs/python/tf/all_symbols\n",
    "# https://keras.io/api/layers/"
   ]
  },
  {
   "cell_type": "code",
   "execution_count": 10,
   "metadata": {},
   "outputs": [],
   "source": [
    "import tensorflow as tf\n",
    "from tensorflow.python import keras\n",
    "from keras.models import Sequential\n",
    "from keras.layers import Dense, Dropout, Activation, Flatten, Conv2D, MaxPooling2D\n",
    "from tensorflow.python.keras import layers \n",
    "from keras.utils import to_categorical\n",
    "import numpy as np\n",
    "import matplotlib.pyplot as plt\n",
    "import pickle \n",
    "\n",
    "\n",
    "\n",
    "import warnings\n",
    "warnings.simplefilter(\"ignore\")\n",
    "\n"
   ]
  },
  {
   "cell_type": "code",
   "execution_count": 11,
   "metadata": {},
   "outputs": [
    {
     "name": "stdout",
     "output_type": "stream",
     "text": [
      "Epoch 1/13\n",
      "1/1 [==============================] - 1s 837ms/step - loss: 0.7007 - accuracy: 0.5455 - val_loss: 8.9592 - val_accuracy: 0.4000\n",
      "Epoch 2/13\n",
      "1/1 [==============================] - 0s 187ms/step - loss: 6.2075 - accuracy: 0.5455 - val_loss: 0.5684 - val_accuracy: 0.6000\n",
      "Epoch 3/13\n",
      "1/1 [==============================] - 0s 181ms/step - loss: 0.5151 - accuracy: 0.6364 - val_loss: 0.9648 - val_accuracy: 0.6000\n",
      "Epoch 4/13\n",
      "1/1 [==============================] - 0s 183ms/step - loss: 1.0917 - accuracy: 0.4545 - val_loss: 0.7445 - val_accuracy: 0.4000\n",
      "Epoch 5/13\n",
      "1/1 [==============================] - 0s 180ms/step - loss: 0.3302 - accuracy: 0.9091 - val_loss: 1.3176 - val_accuracy: 0.4000\n",
      "Epoch 6/13\n",
      "1/1 [==============================] - 0s 187ms/step - loss: 0.5072 - accuracy: 0.7273 - val_loss: 0.7775 - val_accuracy: 0.4000\n",
      "Epoch 7/13\n",
      "1/1 [==============================] - 0s 179ms/step - loss: 0.2937 - accuracy: 0.9091 - val_loss: 0.6394 - val_accuracy: 0.6000\n",
      "Epoch 8/13\n",
      "1/1 [==============================] - 0s 180ms/step - loss: 0.5174 - accuracy: 0.6364 - val_loss: 0.6009 - val_accuracy: 0.4000\n",
      "Epoch 9/13\n",
      "1/1 [==============================] - 0s 194ms/step - loss: 0.2397 - accuracy: 1.0000 - val_loss: 1.0736 - val_accuracy: 0.4000\n",
      "Epoch 10/13\n",
      "1/1 [==============================] - 0s 182ms/step - loss: 0.2394 - accuracy: 0.9091 - val_loss: 1.4132 - val_accuracy: 0.4000\n",
      "Epoch 11/13\n",
      "1/1 [==============================] - 0s 185ms/step - loss: 0.2592 - accuracy: 0.9091 - val_loss: 1.3639 - val_accuracy: 0.4000\n",
      "Epoch 12/13\n",
      "1/1 [==============================] - 0s 181ms/step - loss: 0.1946 - accuracy: 0.9091 - val_loss: 1.0599 - val_accuracy: 0.6000\n",
      "Epoch 13/13\n",
      "1/1 [==============================] - 0s 180ms/step - loss: 0.1229 - accuracy: 0.9091 - val_loss: 0.7536 - val_accuracy: 0.4000\n"
     ]
    },
    {
     "data": {
      "text/plain": [
       "<keras.callbacks.History at 0x7fb8c8167820>"
      ]
     },
     "execution_count": 11,
     "metadata": {},
     "output_type": "execute_result"
    }
   ],
   "source": [
    "X = pickle.load(open(\"X.pickle\",\"rb\"))\n",
    "y = pickle.load(open(\"y.pickle\",\"rb\"))\n",
    "\n",
    "X = X/255.0\n",
    "\n",
    "y = np.array(y)\n",
    "\n",
    "model = Sequential()\n",
    "model.add(Conv2D(64, (3,3), input_shape = X.shape[1:]))\n",
    "model.add(Activation(\"relu\"))\n",
    "model.add(MaxPooling2D(pool_size=(2,2)))\n",
    "\n",
    "\n",
    "model.add(Conv2D(64, (3,3)))\n",
    "model.add(Activation(\"relu\"))\n",
    "model.add(MaxPooling2D(pool_size=(2,2)))\n",
    "\n",
    "\n",
    "model.add(Flatten())\n",
    "model.add(Dense(64))\n",
    "\n",
    "model.add(Dense(1))\n",
    "model.add(Activation(\"sigmoid\"))\n",
    "\n",
    "model.compile(loss=\"binary_crossentropy\",optimizer=\"adam\", metrics = [\"accuracy\"]) #loss \"Categorical\" for several categories \n",
    "\n",
    "model.fit(X, y, batch_size=32, epochs=13, validation_split=0.3) #Change epochs \n",
    "\n"
   ]
  },
  {
   "cell_type": "code",
   "execution_count": null,
   "metadata": {},
   "outputs": [],
   "source": []
  }
 ],
 "metadata": {
  "interpreter": {
   "hash": "916dbcbb3f70747c44a77c7bcd40155683ae19c65e1c03b4aa3499c5328201f1"
  },
  "kernelspec": {
   "display_name": "Python 3.8.10 64-bit",
   "language": "python",
   "name": "python3"
  },
  "language_info": {
   "codemirror_mode": {
    "name": "ipython",
    "version": 3
   },
   "file_extension": ".py",
   "mimetype": "text/x-python",
   "name": "python",
   "nbconvert_exporter": "python",
   "pygments_lexer": "ipython3",
   "version": "3.8.10"
  },
  "orig_nbformat": 4
 },
 "nbformat": 4,
 "nbformat_minor": 2
}
