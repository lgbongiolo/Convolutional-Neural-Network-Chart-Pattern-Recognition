{
 "cells": [
  {
   "cell_type": "code",
   "execution_count": 1,
   "metadata": {},
   "outputs": [],
   "source": [
    "#Description:\n",
    "#Chart Pattern Image Recognition - Identify chart patterns by Convolutional Neural Networks \n",
    "#Model Type: Convolutional Neural Network\n",
    "#06-10-2022\n",
    "#Version - V1.0 Beta\n",
    "\n",
    "\n",
    "#------------------------------\n",
    "#Version Updates:\n",
    "#Importing pickle data\n",
    "#Add layers \n",
    "#Fit the model \n",
    "\n",
    "#------------------------------\n",
    "#Future implementations \n",
    "#Add more data to the dataset\n",
    "#Add Automated Download dataset from google images \n",
    "#Add more CATEGORIES such as Flags, Pennant, Cup and handle and so on. \n",
    "#Add Auto Test Image from any Chart  \n",
    "\n",
    "### Author - Luiz Gabriel Bongiolo\n",
    "\n",
    "### References \n",
    "# Harrison Kinsley @Sentdex - Deep Learning with Python, TensorFlow, and Keras tutorial - https://pythonprogramming.net/introduction-deep-learning-python-tensorflow-keras/\n",
    "# Shaan Shah - Identifying Candlestick Patterns using Deep Learning - https://towardsdatascience.com/identifying-candlestick-patterns-using-deep-learning-b7d706726874\n",
    "# https://www.tensorflow.org/api_docs/python/tf/all_symbols\n",
    "# https://keras.io/api/layers/"
   ]
  },
  {
   "cell_type": "code",
   "execution_count": 2,
   "metadata": {},
   "outputs": [
    {
     "name": "stderr",
     "output_type": "stream",
     "text": [
      "2022-10-15 22:24:40.687633: W tensorflow/stream_executor/platform/default/dso_loader.cc:64] Could not load dynamic library 'libcudart.so.11.0'; dlerror: libcudart.so.11.0: cannot open shared object file: No such file or directory\n",
      "2022-10-15 22:24:40.687677: I tensorflow/stream_executor/cuda/cudart_stub.cc:29] Ignore above cudart dlerror if you do not have a GPU set up on your machine.\n"
     ]
    }
   ],
   "source": [
    "import tensorflow as tf\n",
    "from tensorflow.python import keras\n",
    "from keras.models import Sequential\n",
    "from keras.layers import Dense, Dropout, Activation, Flatten, Conv2D, MaxPooling2D\n",
    "from tensorflow.python.keras import layers \n",
    "from keras.utils import to_categorical\n",
    "import numpy as np\n",
    "import matplotlib.pyplot as plt\n",
    "import pickle \n",
    "\n",
    "\n",
    "# Remove warnings\n",
    "import sys\n",
    "\n",
    "if not sys.warnoptions:\n",
    "    import warnings\n",
    "    warnings.simplefilter(\"ignore\")\n",
    "\n"
   ]
  },
  {
   "cell_type": "code",
   "execution_count": 3,
   "metadata": {},
   "outputs": [
    {
     "name": "stderr",
     "output_type": "stream",
     "text": [
      "2022-10-15 22:24:57.670128: I tensorflow/stream_executor/cuda/cuda_gpu_executor.cc:975] successful NUMA node read from SysFS had negative value (-1), but there must be at least one NUMA node, so returning NUMA node zero\n",
      "2022-10-15 22:24:57.670912: W tensorflow/stream_executor/platform/default/dso_loader.cc:64] Could not load dynamic library 'libcudart.so.11.0'; dlerror: libcudart.so.11.0: cannot open shared object file: No such file or directory\n",
      "2022-10-15 22:24:57.671083: W tensorflow/stream_executor/platform/default/dso_loader.cc:64] Could not load dynamic library 'libcublas.so.11'; dlerror: libcublas.so.11: cannot open shared object file: No such file or directory\n",
      "2022-10-15 22:24:57.671221: W tensorflow/stream_executor/platform/default/dso_loader.cc:64] Could not load dynamic library 'libcublasLt.so.11'; dlerror: libcublasLt.so.11: cannot open shared object file: No such file or directory\n",
      "2022-10-15 22:24:57.671360: W tensorflow/stream_executor/platform/default/dso_loader.cc:64] Could not load dynamic library 'libcufft.so.10'; dlerror: libcufft.so.10: cannot open shared object file: No such file or directory\n",
      "2022-10-15 22:24:57.671498: W tensorflow/stream_executor/platform/default/dso_loader.cc:64] Could not load dynamic library 'libcurand.so.10'; dlerror: libcurand.so.10: cannot open shared object file: No such file or directory\n",
      "2022-10-15 22:24:57.671633: W tensorflow/stream_executor/platform/default/dso_loader.cc:64] Could not load dynamic library 'libcusolver.so.11'; dlerror: libcusolver.so.11: cannot open shared object file: No such file or directory\n",
      "2022-10-15 22:24:57.671958: W tensorflow/stream_executor/platform/default/dso_loader.cc:64] Could not load dynamic library 'libcusparse.so.11'; dlerror: libcusparse.so.11: cannot open shared object file: No such file or directory\n",
      "2022-10-15 22:24:57.672110: W tensorflow/stream_executor/platform/default/dso_loader.cc:64] Could not load dynamic library 'libcudnn.so.8'; dlerror: libcudnn.so.8: cannot open shared object file: No such file or directory\n",
      "2022-10-15 22:24:57.672134: W tensorflow/core/common_runtime/gpu/gpu_device.cc:1850] Cannot dlopen some GPU libraries. Please make sure the missing libraries mentioned above are installed properly if you would like to use GPU. Follow the guide at https://www.tensorflow.org/install/gpu for how to download and setup the required libraries for your platform.\n",
      "Skipping registering GPU devices...\n"
     ]
    },
    {
     "name": "stdout",
     "output_type": "stream",
     "text": [
      "Epoch 1/13\n",
      "1/1 [==============================] - 2s 2s/step - loss: 0.6917 - accuracy: 0.5000 - val_loss: 8.7177 - val_accuracy: 0.5000\n",
      "Epoch 2/13\n",
      "1/1 [==============================] - 0s 227ms/step - loss: 8.4106 - accuracy: 0.5000 - val_loss: 1.0391 - val_accuracy: 0.5000\n",
      "Epoch 3/13\n",
      "1/1 [==============================] - 0s 270ms/step - loss: 0.7480 - accuracy: 0.5000 - val_loss: 1.3766 - val_accuracy: 0.5000\n",
      "Epoch 4/13\n",
      "1/1 [==============================] - 0s 215ms/step - loss: 1.0555 - accuracy: 0.5000 - val_loss: 0.7594 - val_accuracy: 0.5000\n",
      "Epoch 5/13\n",
      "1/1 [==============================] - 0s 228ms/step - loss: 0.4410 - accuracy: 0.8571 - val_loss: 0.9254 - val_accuracy: 0.5000\n",
      "Epoch 6/13\n",
      "1/1 [==============================] - 0s 241ms/step - loss: 0.5705 - accuracy: 0.5714 - val_loss: 0.6572 - val_accuracy: 0.5000\n",
      "Epoch 7/13\n",
      "1/1 [==============================] - 0s 220ms/step - loss: 0.3437 - accuracy: 0.9286 - val_loss: 1.0136 - val_accuracy: 0.5000\n",
      "Epoch 8/13\n",
      "1/1 [==============================] - 0s 218ms/step - loss: 0.6269 - accuracy: 0.5000 - val_loss: 0.6059 - val_accuracy: 0.5000\n",
      "Epoch 9/13\n",
      "1/1 [==============================] - 0s 224ms/step - loss: 0.2908 - accuracy: 1.0000 - val_loss: 0.5385 - val_accuracy: 0.5000\n",
      "Epoch 10/13\n",
      "1/1 [==============================] - 0s 220ms/step - loss: 0.2324 - accuracy: 0.9286 - val_loss: 0.5153 - val_accuracy: 0.5000\n",
      "Epoch 11/13\n",
      "1/1 [==============================] - 0s 229ms/step - loss: 0.2141 - accuracy: 0.9286 - val_loss: 0.4454 - val_accuracy: 1.0000\n",
      "Epoch 12/13\n",
      "1/1 [==============================] - 0s 219ms/step - loss: 0.1813 - accuracy: 0.9286 - val_loss: 0.4099 - val_accuracy: 1.0000\n",
      "Epoch 13/13\n",
      "1/1 [==============================] - 0s 219ms/step - loss: 0.1594 - accuracy: 1.0000 - val_loss: 0.3404 - val_accuracy: 1.0000\n"
     ]
    },
    {
     "data": {
      "text/plain": [
       "<keras.callbacks.History at 0x7f45a4207310>"
      ]
     },
     "execution_count": 3,
     "metadata": {},
     "output_type": "execute_result"
    }
   ],
   "source": [
    "X = pickle.load(open(\"X.pickle\",\"rb\"))\n",
    "y = pickle.load(open(\"y.pickle\",\"rb\"))\n",
    "\n",
    "X = X/255.0\n",
    "\n",
    "y = np.array(y)\n",
    "\n",
    "model = Sequential()\n",
    "model.add(Conv2D(64, (3,3), input_shape = X.shape[1:]))\n",
    "model.add(Activation(\"relu\"))\n",
    "model.add(MaxPooling2D(pool_size=(2,2)))\n",
    "\n",
    "\n",
    "model.add(Conv2D(64, (3,3)))\n",
    "model.add(Activation(\"relu\"))\n",
    "model.add(MaxPooling2D(pool_size=(2,2)))\n",
    "\n",
    "\n",
    "model.add(Flatten())\n",
    "model.add(Dense(64))\n",
    "\n",
    "model.add(Dense(1))\n",
    "model.add(Activation(\"sigmoid\"))\n",
    "\n",
    "model.compile(loss=\"binary_crossentropy\",optimizer=\"adam\", metrics = [\"accuracy\"]) #loss \"Categorical\" for several categories \n",
    "\n",
    "model.fit(X, y, batch_size=32, epochs=13, validation_split=0.3) #Change epochs \n",
    "\n"
   ]
  },
  {
   "cell_type": "code",
   "execution_count": null,
   "metadata": {},
   "outputs": [],
   "source": []
  }
 ],
 "metadata": {
  "interpreter": {
   "hash": "916dbcbb3f70747c44a77c7bcd40155683ae19c65e1c03b4aa3499c5328201f1"
  },
  "kernelspec": {
   "display_name": "Python 3.8.10 64-bit",
   "language": "python",
   "name": "python3"
  },
  "language_info": {
   "codemirror_mode": {
    "name": "ipython",
    "version": 3
   },
   "file_extension": ".py",
   "mimetype": "text/x-python",
   "name": "python",
   "nbconvert_exporter": "python",
   "pygments_lexer": "ipython3",
   "version": "3.8.10"
  },
  "orig_nbformat": 4
 },
 "nbformat": 4,
 "nbformat_minor": 2
}
