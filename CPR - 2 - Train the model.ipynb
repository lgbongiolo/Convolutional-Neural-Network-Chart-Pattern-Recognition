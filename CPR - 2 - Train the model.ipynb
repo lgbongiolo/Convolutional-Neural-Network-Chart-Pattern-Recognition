{
 "cells": [
  {
   "cell_type": "code",
   "execution_count": 4,
   "metadata": {},
   "outputs": [],
   "source": [
    "#Description:\n",
    "#Chart Pattern Image Recognition - Identify chart patterns by Convolutional Neural Networks \n",
    "#Model Type: Convolutional Neural Network\n",
    "#06-10-2022\n",
    "#Version - V1.0 Beta\n",
    "\n",
    "\n",
    "#------------------------------\n",
    "#Version Updates:\n",
    "#Importing pickle data\n",
    "#Add layers \n",
    "#Fit the model \n",
    "\n",
    "#------------------------------\n",
    "#Future implementations \n",
    "#Add more data to the dataset\n",
    "#Add Automated Download dataset from google images \n",
    "#Add more CATEGORIES such as Flags, Pennant, Cup and handle and so on. \n",
    "#Add Auto Test Image from any Chart  \n",
    "\n",
    "### Author - Luiz Gabriel Bongiolo\n",
    "\n",
    "### References \n",
    "# Harrison Kinsley @Sentdex - Deep Learning with Python, TensorFlow, and Keras tutorial - https://pythonprogramming.net/introduction-deep-learning-python-tensorflow-keras/\n",
    "# Shaan Shah - Identifying Candlestick Patterns using Deep Learning - https://towardsdatascience.com/identifying-candlestick-patterns-using-deep-learning-b7d706726874\n",
    "# https://www.tensorflow.org/api_docs/python/tf/all_symbols\n",
    "# https://keras.io/api/layers/"
   ]
  },
  {
   "cell_type": "code",
   "execution_count": 5,
   "metadata": {},
   "outputs": [],
   "source": [
    "import tensorflow as tf\n",
    "from tensorflow.python import keras\n",
    "from keras.models import Sequential\n",
    "from keras.layers import Dense, Dropout, Activation, Flatten, Conv2D, MaxPooling2D\n",
    "from tensorflow.python.keras import layers \n",
    "from keras.utils import to_categorical\n",
    "import numpy as np\n",
    "import matplotlib.pyplot as plt\n",
    "import pickle \n",
    "\n",
    "\n",
    "\n",
    "import warnings\n",
    "warnings.simplefilter(\"ignore\")\n",
    "\n"
   ]
  },
  {
   "cell_type": "code",
   "execution_count": 6,
   "metadata": {},
   "outputs": [
    {
     "name": "stdout",
     "output_type": "stream",
     "text": [
      "Epoch 1/20\n",
      "1/1 [==============================] - 2s 2s/step - loss: 0.6955 - accuracy: 0.5000 - val_loss: 32.2987 - val_accuracy: 0.5000\n",
      "Epoch 2/20\n",
      "1/1 [==============================] - 1s 947ms/step - loss: 32.0591 - accuracy: 0.5000 - val_loss: 6.7944 - val_accuracy: 0.5000\n",
      "Epoch 3/20\n",
      "1/1 [==============================] - 1s 964ms/step - loss: 6.3422 - accuracy: 0.5000 - val_loss: 9.3372 - val_accuracy: 0.5000\n",
      "Epoch 4/20\n",
      "1/1 [==============================] - 1s 911ms/step - loss: 8.8323 - accuracy: 0.5000 - val_loss: 7.9434 - val_accuracy: 0.5000\n",
      "Epoch 5/20\n",
      "1/1 [==============================] - 1s 903ms/step - loss: 7.3705 - accuracy: 0.5000 - val_loss: 1.2344 - val_accuracy: 0.5000\n",
      "Epoch 6/20\n",
      "1/1 [==============================] - 1s 911ms/step - loss: 0.9994 - accuracy: 0.6875 - val_loss: 9.0428 - val_accuracy: 0.5000\n",
      "Epoch 7/20\n",
      "1/1 [==============================] - 1s 916ms/step - loss: 8.2499 - accuracy: 0.5000 - val_loss: 7.0178 - val_accuracy: 0.5000\n",
      "Epoch 8/20\n",
      "1/1 [==============================] - 1s 954ms/step - loss: 6.1178 - accuracy: 0.5000 - val_loss: 2.9166 - val_accuracy: 0.5000\n",
      "Epoch 9/20\n",
      "1/1 [==============================] - 1s 1s/step - loss: 1.9079 - accuracy: 0.5000 - val_loss: 0.5667 - val_accuracy: 0.7500\n",
      "Epoch 10/20\n",
      "1/1 [==============================] - 1s 1s/step - loss: 0.1893 - accuracy: 0.8750 - val_loss: 2.0066 - val_accuracy: 0.5000\n",
      "Epoch 11/20\n",
      "1/1 [==============================] - 1s 1s/step - loss: 0.9700 - accuracy: 0.6250 - val_loss: 1.7970 - val_accuracy: 0.5000\n",
      "Epoch 12/20\n",
      "1/1 [==============================] - 1s 1s/step - loss: 0.7807 - accuracy: 0.6875 - val_loss: 0.6931 - val_accuracy: 0.6250\n",
      "Epoch 13/20\n",
      "1/1 [==============================] - 1s 1s/step - loss: 0.1476 - accuracy: 1.0000 - val_loss: 1.5318 - val_accuracy: 0.5000\n",
      "Epoch 14/20\n",
      "1/1 [==============================] - 1s 1s/step - loss: 0.5037 - accuracy: 0.6875 - val_loss: 1.2646 - val_accuracy: 0.5000\n",
      "Epoch 15/20\n",
      "1/1 [==============================] - 1s 1s/step - loss: 0.3113 - accuracy: 0.8125 - val_loss: 0.6765 - val_accuracy: 0.5000\n",
      "Epoch 16/20\n",
      "1/1 [==============================] - 1s 1s/step - loss: 0.0664 - accuracy: 1.0000 - val_loss: 1.1961 - val_accuracy: 0.6250\n",
      "Epoch 17/20\n",
      "1/1 [==============================] - 1s 1s/step - loss: 0.1807 - accuracy: 0.8750 - val_loss: 1.1350 - val_accuracy: 0.6250\n",
      "Epoch 18/20\n",
      "1/1 [==============================] - 1s 1s/step - loss: 0.1208 - accuracy: 1.0000 - val_loss: 0.7787 - val_accuracy: 0.6250\n",
      "Epoch 19/20\n",
      "1/1 [==============================] - 1s 1s/step - loss: 0.0326 - accuracy: 1.0000 - val_loss: 0.8969 - val_accuracy: 0.5000\n",
      "Epoch 20/20\n",
      "1/1 [==============================] - 1s 1s/step - loss: 0.0453 - accuracy: 1.0000 - val_loss: 0.9576 - val_accuracy: 0.5000\n"
     ]
    },
    {
     "data": {
      "text/plain": [
       "<keras.callbacks.History at 0x7fa996fdcee0>"
      ]
     },
     "execution_count": 6,
     "metadata": {},
     "output_type": "execute_result"
    }
   ],
   "source": [
    "X = pickle.load(open(\"X.pickle\",\"rb\"))\n",
    "y = pickle.load(open(\"y.pickle\",\"rb\"))\n",
    "\n",
    "X = X/255.0\n",
    "\n",
    "y = np.array(y)\n",
    "\n",
    "model = Sequential()\n",
    "model.add(Conv2D(64, (3,3), input_shape = X.shape[1:]))\n",
    "model.add(Activation(\"relu\"))\n",
    "model.add(MaxPooling2D(pool_size=(2,2)))\n",
    "\n",
    "\n",
    "model.add(Conv2D(64, (3,3)))\n",
    "model.add(Activation(\"relu\"))\n",
    "model.add(MaxPooling2D(pool_size=(2,2)))\n",
    "\n",
    "\n",
    "model.add(Flatten())\n",
    "model.add(Dense(64))\n",
    "\n",
    "model.add(Dense(1))\n",
    "model.add(Activation(\"sigmoid\"))\n",
    "\n",
    "model.compile(loss=\"binary_crossentropy\",optimizer=\"adam\", metrics = [\"accuracy\"]) #loss \"Categorical\" for several categories \n",
    "\n",
    "model.fit(X, y, batch_size=24, epochs=20, validation_split=0.3) #Change epochs \n",
    "\n"
   ]
  },
  {
   "cell_type": "code",
   "execution_count": null,
   "metadata": {},
   "outputs": [],
   "source": []
  }
 ],
 "metadata": {
  "interpreter": {
   "hash": "916dbcbb3f70747c44a77c7bcd40155683ae19c65e1c03b4aa3499c5328201f1"
  },
  "kernelspec": {
   "display_name": "Python 3.8.10 64-bit",
   "language": "python",
   "name": "python3"
  },
  "language_info": {
   "codemirror_mode": {
    "name": "ipython",
    "version": 3
   },
   "file_extension": ".py",
   "mimetype": "text/x-python",
   "name": "python",
   "nbconvert_exporter": "python",
   "pygments_lexer": "ipython3",
   "version": "3.8.10"
  },
  "orig_nbformat": 4
 },
 "nbformat": 4,
 "nbformat_minor": 2
}
