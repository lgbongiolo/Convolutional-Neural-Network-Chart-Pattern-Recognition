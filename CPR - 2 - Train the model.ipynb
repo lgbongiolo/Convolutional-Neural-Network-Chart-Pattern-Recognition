{
 "cells": [
  {
   "cell_type": "code",
   "execution_count": 1,
   "metadata": {},
   "outputs": [],
   "source": [
    "#Chart pattern image Recognition - Identify the chart pattern by Convolutional Neural Networks \n",
    "#06-10-2022\n",
    "#Version - V1.0 Beta\n",
    "\n",
    "\n",
    "#------------------------------\n",
    "#Code Description \n",
    "#Importing pickle data\n",
    "#Add layers \n",
    "#Fit the model \n",
    "\n",
    "#------------------------------\n",
    "#Version Updates \n",
    "\n",
    "\n",
    "#------------------------------\n",
    "#Future implementations \n",
    "\n",
    "#Add Automated Download dataset from google images \n",
    "#Add more CATEGORIES such as Flags, Pennant, Cup with handle and so on \n"
   ]
  },
  {
   "cell_type": "code",
   "execution_count": 2,
   "metadata": {},
   "outputs": [
    {
     "name": "stderr",
     "output_type": "stream",
     "text": [
      "2022-10-08 16:23:14.970803: W tensorflow/stream_executor/platform/default/dso_loader.cc:64] Could not load dynamic library 'libcudart.so.11.0'; dlerror: libcudart.so.11.0: cannot open shared object file: No such file or directory\n",
      "2022-10-08 16:23:14.970849: I tensorflow/stream_executor/cuda/cudart_stub.cc:29] Ignore above cudart dlerror if you do not have a GPU set up on your machine.\n"
     ]
    }
   ],
   "source": [
    "import tensorflow as tf\n",
    "from tensorflow.python import keras\n",
    "from keras.models import Sequential\n",
    "from keras.layers import Dense, Dropout, Activation, Flatten, Conv2D, MaxPooling2D\n",
    "from tensorflow.python.keras import layers \n",
    "from keras.utils import to_categorical\n",
    "import numpy as np\n",
    "import matplotlib.pyplot as plt\n",
    "import pickle \n",
    "\n",
    "\n",
    "# Remove warnings\n",
    "import sys\n",
    "\n",
    "if not sys.warnoptions:\n",
    "    import warnings\n",
    "    warnings.simplefilter(\"ignore\")\n",
    "\n"
   ]
  },
  {
   "cell_type": "code",
   "execution_count": 3,
   "metadata": {},
   "outputs": [
    {
     "name": "stderr",
     "output_type": "stream",
     "text": [
      "2022-10-08 16:23:18.484149: I tensorflow/stream_executor/cuda/cuda_gpu_executor.cc:975] successful NUMA node read from SysFS had negative value (-1), but there must be at least one NUMA node, so returning NUMA node zero\n",
      "2022-10-08 16:23:18.484584: W tensorflow/stream_executor/platform/default/dso_loader.cc:64] Could not load dynamic library 'libcudart.so.11.0'; dlerror: libcudart.so.11.0: cannot open shared object file: No such file or directory\n",
      "2022-10-08 16:23:18.484671: W tensorflow/stream_executor/platform/default/dso_loader.cc:64] Could not load dynamic library 'libcublas.so.11'; dlerror: libcublas.so.11: cannot open shared object file: No such file or directory\n",
      "2022-10-08 16:23:18.484754: W tensorflow/stream_executor/platform/default/dso_loader.cc:64] Could not load dynamic library 'libcublasLt.so.11'; dlerror: libcublasLt.so.11: cannot open shared object file: No such file or directory\n",
      "2022-10-08 16:23:18.484836: W tensorflow/stream_executor/platform/default/dso_loader.cc:64] Could not load dynamic library 'libcufft.so.10'; dlerror: libcufft.so.10: cannot open shared object file: No such file or directory\n",
      "2022-10-08 16:23:18.484921: W tensorflow/stream_executor/platform/default/dso_loader.cc:64] Could not load dynamic library 'libcurand.so.10'; dlerror: libcurand.so.10: cannot open shared object file: No such file or directory\n",
      "2022-10-08 16:23:18.485002: W tensorflow/stream_executor/platform/default/dso_loader.cc:64] Could not load dynamic library 'libcusolver.so.11'; dlerror: libcusolver.so.11: cannot open shared object file: No such file or directory\n",
      "2022-10-08 16:23:18.485082: W tensorflow/stream_executor/platform/default/dso_loader.cc:64] Could not load dynamic library 'libcusparse.so.11'; dlerror: libcusparse.so.11: cannot open shared object file: No such file or directory\n",
      "2022-10-08 16:23:18.485162: W tensorflow/stream_executor/platform/default/dso_loader.cc:64] Could not load dynamic library 'libcudnn.so.8'; dlerror: libcudnn.so.8: cannot open shared object file: No such file or directory\n",
      "2022-10-08 16:23:18.485192: W tensorflow/core/common_runtime/gpu/gpu_device.cc:1850] Cannot dlopen some GPU libraries. Please make sure the missing libraries mentioned above are installed properly if you would like to use GPU. Follow the guide at https://www.tensorflow.org/install/gpu for how to download and setup the required libraries for your platform.\n",
      "Skipping registering GPU devices...\n"
     ]
    },
    {
     "name": "stdout",
     "output_type": "stream",
     "text": [
      "Epoch 1/13\n"
     ]
    },
    {
     "name": "stderr",
     "output_type": "stream",
     "text": [
      "2022-10-08 16:23:20.262101: W tensorflow/core/framework/cpu_allocator_impl.cc:82] Allocation of 34420736 exceeds 10% of free system memory.\n",
      "2022-10-08 16:23:20.487289: W tensorflow/core/framework/cpu_allocator_impl.cc:82] Allocation of 30537216 exceeds 10% of free system memory.\n"
     ]
    },
    {
     "name": "stdout",
     "output_type": "stream",
     "text": [
      "1/1 [==============================] - ETA: 0s - loss: 0.7031 - accuracy: 0.5000"
     ]
    },
    {
     "name": "stderr",
     "output_type": "stream",
     "text": [
      "2022-10-08 16:23:20.696186: W tensorflow/core/framework/cpu_allocator_impl.cc:82] Allocation of 17210368 exceeds 10% of free system memory.\n",
      "2022-10-08 16:23:20.696264: W tensorflow/core/framework/cpu_allocator_impl.cc:82] Allocation of 34420736 exceeds 10% of free system memory.\n"
     ]
    },
    {
     "name": "stdout",
     "output_type": "stream",
     "text": [
      "1/1 [==============================] - 3s 3s/step - loss: 0.7031 - accuracy: 0.5000 - val_loss: 4.9862 - val_accuracy: 0.5000\n",
      "Epoch 2/13\n"
     ]
    },
    {
     "name": "stderr",
     "output_type": "stream",
     "text": [
      "2022-10-08 16:23:21.543289: W tensorflow/core/framework/cpu_allocator_impl.cc:82] Allocation of 34420736 exceeds 10% of free system memory.\n"
     ]
    },
    {
     "name": "stdout",
     "output_type": "stream",
     "text": [
      "1/1 [==============================] - 1s 530ms/step - loss: 4.5508 - accuracy: 0.5000 - val_loss: 0.6364 - val_accuracy: 1.0000\n",
      "Epoch 3/13\n",
      "1/1 [==============================] - 1s 540ms/step - loss: 0.4330 - accuracy: 0.9286 - val_loss: 2.0760 - val_accuracy: 0.5000\n",
      "Epoch 4/13\n",
      "1/1 [==============================] - 1s 562ms/step - loss: 1.6836 - accuracy: 0.5000 - val_loss: 1.2516 - val_accuracy: 0.5000\n",
      "Epoch 5/13\n",
      "1/1 [==============================] - 1s 553ms/step - loss: 0.8975 - accuracy: 0.5000 - val_loss: 0.6812 - val_accuracy: 0.5000\n",
      "Epoch 6/13\n",
      "1/1 [==============================] - 1s 599ms/step - loss: 0.4163 - accuracy: 0.7857 - val_loss: 0.6963 - val_accuracy: 0.5000\n",
      "Epoch 7/13\n",
      "1/1 [==============================] - 1s 514ms/step - loss: 0.3406 - accuracy: 0.9286 - val_loss: 0.8102 - val_accuracy: 0.5000\n",
      "Epoch 8/13\n",
      "1/1 [==============================] - 0s 491ms/step - loss: 0.3024 - accuracy: 0.9286 - val_loss: 0.8038 - val_accuracy: 0.5000\n",
      "Epoch 9/13\n",
      "1/1 [==============================] - 1s 540ms/step - loss: 0.2357 - accuracy: 1.0000 - val_loss: 0.7896 - val_accuracy: 0.5000\n",
      "Epoch 10/13\n",
      "1/1 [==============================] - 1s 505ms/step - loss: 0.1921 - accuracy: 1.0000 - val_loss: 0.8620 - val_accuracy: 0.5000\n",
      "Epoch 11/13\n",
      "1/1 [==============================] - 1s 514ms/step - loss: 0.1227 - accuracy: 1.0000 - val_loss: 1.0217 - val_accuracy: 0.5000\n",
      "Epoch 12/13\n",
      "1/1 [==============================] - 1s 508ms/step - loss: 0.0920 - accuracy: 1.0000 - val_loss: 0.9327 - val_accuracy: 0.0000e+00\n",
      "Epoch 13/13\n",
      "1/1 [==============================] - 1s 503ms/step - loss: 0.0586 - accuracy: 1.0000 - val_loss: 0.9920 - val_accuracy: 0.0000e+00\n"
     ]
    },
    {
     "data": {
      "text/plain": [
       "<keras.callbacks.History at 0x7fbb6bf562e0>"
      ]
     },
     "execution_count": 3,
     "metadata": {},
     "output_type": "execute_result"
    }
   ],
   "source": [
    "X = pickle.load(open(\"X.pickle\",\"rb\"))\n",
    "y = pickle.load(open(\"y.pickle\",\"rb\"))\n",
    "\n",
    "X = X/255.0\n",
    "\n",
    "y = np.array(y)\n",
    "\n",
    "model = Sequential()\n",
    "model.add(Conv2D(64, (3,3), input_shape = X.shape[1:]))\n",
    "model.add(Activation(\"relu\"))\n",
    "model.add(MaxPooling2D(pool_size=(2,2)))\n",
    "\n",
    "\n",
    "model.add(Conv2D(64, (3,3)))\n",
    "model.add(Activation(\"relu\"))\n",
    "model.add(MaxPooling2D(pool_size=(2,2)))\n",
    "\n",
    "\n",
    "model.add(Flatten())\n",
    "model.add(Dense(64))\n",
    "\n",
    "model.add(Dense(1))\n",
    "model.add(Activation(\"sigmoid\"))\n",
    "\n",
    "model.compile(loss=\"binary_crossentropy\",optimizer=\"adam\", metrics = [\"accuracy\"]) #loss \"Categorical\" for several categories \n",
    "\n",
    "model.fit(X, y, batch_size=32, epochs=13, validation_split=0.1) #Change epochs \n",
    "\n"
   ]
  },
  {
   "cell_type": "code",
   "execution_count": null,
   "metadata": {},
   "outputs": [],
   "source": []
  }
 ],
 "metadata": {
  "interpreter": {
   "hash": "916dbcbb3f70747c44a77c7bcd40155683ae19c65e1c03b4aa3499c5328201f1"
  },
  "kernelspec": {
   "display_name": "Python 3.8.10 64-bit",
   "language": "python",
   "name": "python3"
  },
  "language_info": {
   "codemirror_mode": {
    "name": "ipython",
    "version": 3
   },
   "file_extension": ".py",
   "mimetype": "text/x-python",
   "name": "python",
   "nbconvert_exporter": "python",
   "pygments_lexer": "ipython3",
   "version": "3.8.10"
  },
  "orig_nbformat": 4
 },
 "nbformat": 4,
 "nbformat_minor": 2
}
